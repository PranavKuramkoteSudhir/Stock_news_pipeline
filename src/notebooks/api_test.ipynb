{
 "cells": [
  {
   "cell_type": "code",
   "execution_count": 3,
   "metadata": {},
   "outputs": [],
   "source": [
    "import requests\n"
   ]
  },
  {
   "cell_type": "code",
   "execution_count": 14,
   "metadata": {},
   "outputs": [],
   "source": [
    "API_TOKEN ='your api token'\n",
    "BASE_URL = \"https://api.marketaux.com/v1/news/all\""
   ]
  },
  {
   "cell_type": "code",
   "execution_count": 5,
   "metadata": {},
   "outputs": [],
   "source": [
    "params = {\n",
    "    \"symbols\": \"TSLA,AMZN,MSFT\",  # You can modify this list of symbols as needed\n",
    "    \"filter_entities\": \"true\",\n",
    "    \"language\": \"en\",\n",
    "    \"limit\": 10,  # This parameter requests the 10 most recent articles\n",
    "    \"api_token\": API_TOKEN\n",
    "}"
   ]
  },
  {
   "cell_type": "code",
   "execution_count": 6,
   "metadata": {},
   "outputs": [],
   "source": [
    "response = requests.get(BASE_URL, params=params)"
   ]
  },
  {
   "cell_type": "code",
   "execution_count": 15,
   "metadata": {},
   "outputs": [
    {
     "name": "stdout",
     "output_type": "stream",
     "text": [
      "Title: Goldman Sachs’ Stocks With Highest Consensus Returns: 42 Stocks With The Highest Consensus ROE\n",
      "Published at: 2024-10-12T23:16:11.000000Z\n",
      "Source: insidermonkey.com\n",
      "Description: As the fourth quarter of 2024 settles in, the narrative surrounding stocks on Wall Street is starting to shift.\n",
      "Keywords: \n",
      "URL: https://www.insidermonkey.com/blog/goldman-sachs-stocks-with-highest-consensus-returns-42-stocks-with-the-highest-consensus-roe-1369290/\n",
      "Name: Tesla, Inc.\n",
      "---\n",
      "Title: Goldman Sachs’ Best Phase 2 AI Stocks: Top 24 High Conviction AI Stocks\n",
      "Published at: 2024-10-12T22:40:57.000000Z\n",
      "Source: insidermonkey.com\n",
      "Description: While consumer technology stocks had soared in the aftermath of the coronavirus pandemic, back then, their share price gains were due to.\n",
      "Keywords: \n",
      "URL: https://www.insidermonkey.com/blog/goldman-sachs-best-phase-2-ai-stocks-top-24-high-conviction-ai-stocks-1371777/\n",
      "Name: Microsoft Corporation\n",
      "---\n",
      "Title: Billionaire Bill Gates Has 81% of His $48 Billion Portfolio in Just 4 Stocks\n",
      "Published at: 2024-10-12T22:01:00.000000Z\n",
      "Source: finance.yahoo.com\n",
      "Description: The billionaire philanthropist has two dozen stocks in his holdings, but just four account for the vast majority of his portfolio.\n",
      "Keywords: \n",
      "URL: https://finance.yahoo.com/news/billionaire-bill-gates-81-48-220100456.html\n",
      "Name: Microsoft Corporation\n",
      "---\n"
     ]
    }
   ],
   "source": [
    "\n",
    "if response.status_code == 200:\n",
    "    news_data = response.json()\n",
    "    # Process the news_data here\n",
    "    for article in news_data['data']:\n",
    "        print(f\"Title: {article['title']}\")\n",
    "        print(f\"Published at: {article['published_at']}\")\n",
    "        print(f\"Source: {article['source']}\")\n",
    "        print(f\"Description: {article['description']}\")\n",
    "        print(f\"Keywords: {article['keywords']}\")\n",
    "        print(f\"URL: {article['url']}\")\n",
    "        print(f\"Name: {article['entities'][0]['name']}\")\n",
    "        print(\"---\")\n",
    "else:\n",
    "    print(f\"Error: {response.status_code}\")\n",
    "    print(response.text)"
   ]
  },
  {
   "cell_type": "code",
   "execution_count": null,
   "metadata": {},
   "outputs": [],
   "source": []
  }
 ],
 "metadata": {
  "kernelspec": {
   "display_name": "venv",
   "language": "python",
   "name": "python3"
  },
  "language_info": {
   "codemirror_mode": {
    "name": "ipython",
    "version": 3
   },
   "file_extension": ".py",
   "mimetype": "text/x-python",
   "name": "python",
   "nbconvert_exporter": "python",
   "pygments_lexer": "ipython3",
   "version": "3.12.7"
  }
 },
 "nbformat": 4,
 "nbformat_minor": 2
}
