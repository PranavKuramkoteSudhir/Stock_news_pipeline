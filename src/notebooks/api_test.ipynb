{
 "cells": [
  {
   "cell_type": "code",
   "execution_count": 4,
   "metadata": {},
   "outputs": [],
   "source": [
    "import requests\n",
    "import os\n"
   ]
  },
  {
   "cell_type": "code",
   "execution_count": 10,
   "metadata": {},
   "outputs": [],
   "source": [
    "API_TOKEN =(os.getenv('API_KEY'))\n",
    "BASE_URL = \"https://api.marketaux.com/v1/news/all\""
   ]
  },
  {
   "cell_type": "code",
   "execution_count": 6,
   "metadata": {},
   "outputs": [],
   "source": [
    "params = {\n",
    "    \"symbols\": \"TSLA,AMZN,MSFT\",  # You can modify this list of symbols as needed\n",
    "    \"filter_entities\": \"true\",\n",
    "    \"language\": \"en\",\n",
    "    \"limit\": 10,  # This parameter requests the 10 most recent articles\n",
    "    \"api_token\": API_TOKEN\n",
    "}"
   ]
  },
  {
   "cell_type": "code",
   "execution_count": 7,
   "metadata": {},
   "outputs": [],
   "source": [
    "response = requests.get(BASE_URL, params=params)"
   ]
  },
  {
   "cell_type": "code",
   "execution_count": 9,
   "metadata": {},
   "outputs": [
    {
     "name": "stdout",
     "output_type": "stream",
     "text": [
      "Error: 401\n",
      "{\"error\":{\"code\":\"invalid_api_token\",\"message\":\"An invalid API token was supplied.\"}}\n"
     ]
    }
   ],
   "source": [
    "\n",
    "if response.status_code == 200:\n",
    "    news_data = response.json()\n",
    "    # Process the news_data here\n",
    "    for article in news_data['data']:\n",
    "        print(f\"Title: {article['title']}\")\n",
    "        print(f\"Published at: {article['published_at']}\")\n",
    "        print(f\"Source: {article['source']}\")\n",
    "        print(f\"Description: {article['description']}\")\n",
    "        print(f\"Keywords: {article['keywords']}\")\n",
    "        print(f\"URL: {article['url']}\")\n",
    "        print(f\"Name: {article['entities'][0]['name']}\")\n",
    "        print(\"---\")\n",
    "else:\n",
    "    print(f\"Error: {response.status_code}\")\n",
    "    print(response.text)"
   ]
  },
  {
   "cell_type": "code",
   "execution_count": null,
   "metadata": {},
   "outputs": [],
   "source": []
  }
 ],
 "metadata": {
  "kernelspec": {
   "display_name": "venv",
   "language": "python",
   "name": "python3"
  },
  "language_info": {
   "codemirror_mode": {
    "name": "ipython",
    "version": 3
   },
   "file_extension": ".py",
   "mimetype": "text/x-python",
   "name": "python",
   "nbconvert_exporter": "python",
   "pygments_lexer": "ipython3",
   "version": "3.12.7"
  }
 },
 "nbformat": 4,
 "nbformat_minor": 2
}
